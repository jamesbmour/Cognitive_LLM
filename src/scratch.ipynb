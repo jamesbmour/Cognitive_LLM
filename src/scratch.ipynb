{
 "cells": [
  {
   "cell_type": "code",
   "outputs": [],
   "source": [
    "from openai import OpenAI\n",
    "from os import getenv\n"
   ],
   "metadata": {
    "collapsed": false,
    "ExecuteTime": {
     "end_time": "2024-02-16T06:09:58.863692672Z",
     "start_time": "2024-02-16T06:09:58.699395104Z"
    }
   },
   "id": "2dc7aa79061fe5c7",
   "execution_count": 1
  },
  {
   "cell_type": "code",
   "outputs": [],
   "source": [
    "# load .env file \n",
    "from dotenv import load_dotenv\n",
    "load_dotenv()\n",
    "openrouter_api = getenv(\"OPENROUTER_API_KEY\")"
   ],
   "metadata": {
    "collapsed": false,
    "ExecuteTime": {
     "end_time": "2024-02-16T06:09:59.678076194Z",
     "start_time": "2024-02-16T06:09:59.671776020Z"
    }
   },
   "id": "47d765770997933b",
   "execution_count": 2
  },
  {
   "cell_type": "code",
   "execution_count": 6,
   "id": "initial_id",
   "metadata": {
    "collapsed": true,
    "ExecuteTime": {
     "end_time": "2024-02-16T06:11:58.099628148Z",
     "start_time": "2024-02-16T06:11:51.550614253Z"
    }
   },
   "outputs": [
    {
     "name": "stdout",
     "output_type": "stream",
     "text": [
      " I understand you'd like to try the conversation as if it were a roleplaying scenario. It sounds like you might be the person testing to see if it works well. In this hypothetical situation, I could respond as someone participating in the roleplay, engaged in a world filled with adventurous characters and thrilling interactions. As your initial statement implies, perhaps we can push the boundaries and explore various genres or even create unique personalities. The possibilities are nearly endless. So, to participate, how would you like to continue narrating this conversation?\n"
     ]
    }
   ],
   "source": [
    "\n",
    "# gets API Key from environment variable OPENAI_API_KEY\n",
    "client = OpenAI(\n",
    "  base_url=\"https://openrouter.ai/api/v1\",\n",
    "  api_key=getenv(\"OPENROUTER_API_KEY\"),\n",
    ")\n",
    "\n",
    "completion = client.chat.completions.create(\n",
    "  extra_headers={\n",
    "    # \"HTTP-Referer\": $YOUR_SITE_URL, # Optional, for including your app on openrouter.ai rankings.\n",
    "    \"X-Title\": openrouter_api, # Optional. Shows in rankings on openrouter.ai.\n",
    "  },\n",
    "  model=\"gryphe/mythomist-7b:free\",\n",
    "  messages=[\n",
    "    {\n",
    "      \"role\": \"user\",\n",
    "      \"content\": \"Say this is a test\",\n",
    "    },\n",
    "  ],\n",
    ")\n",
    "print(completion.choices[0].message.content)"
   ]
  },
  {
   "cell_type": "code",
   "outputs": [],
   "source": [],
   "metadata": {
    "collapsed": false
   },
   "id": "4b7ef0ac63cb44c1"
  }
 ],
 "metadata": {
  "kernelspec": {
   "display_name": "Python 3",
   "language": "python",
   "name": "python3"
  },
  "language_info": {
   "codemirror_mode": {
    "name": "ipython",
    "version": 2
   },
   "file_extension": ".py",
   "mimetype": "text/x-python",
   "name": "python",
   "nbconvert_exporter": "python",
   "pygments_lexer": "ipython2",
   "version": "2.7.6"
  }
 },
 "nbformat": 4,
 "nbformat_minor": 5
}
